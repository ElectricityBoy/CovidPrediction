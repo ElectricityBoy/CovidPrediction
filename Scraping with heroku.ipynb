{
 "cells": [
  {
   "cell_type": "code",
   "execution_count": 44,
   "id": "90125204",
   "metadata": {},
   "outputs": [],
   "source": [
    "from selenium import webdriver\n",
    "import requests"
   ]
  },
  {
   "cell_type": "code",
   "execution_count": 45,
   "id": "3a3c2539",
   "metadata": {},
   "outputs": [],
   "source": [
    "PATH = \"C:\\Program Files (x86)\\chromedriver.exe\""
   ]
  },
  {
   "cell_type": "code",
   "execution_count": 46,
   "id": "1d8cd9de",
   "metadata": {},
   "outputs": [],
   "source": [
    "chromeOptions = webdriver.ChromeOptions()\n",
    "prefs = {\"download.default_directory\": r\"C:\\Users\\elder\\Desktop\\Python\\ArtIEEEficiais\\CovidPrediction\\Web Scraping\"}\n",
    "chromeOptions.add_experimental_option(\"prefs\",prefs)"
   ]
  },
  {
   "cell_type": "code",
   "execution_count": 47,
   "id": "91c11013",
   "metadata": {},
   "outputs": [],
   "source": [
    "driver = webdriver.Chrome(executable_path = PATH,options= chromeOptions )"
   ]
  },
  {
   "cell_type": "code",
   "execution_count": 48,
   "id": "69d090d6",
   "metadata": {},
   "outputs": [],
   "source": [
    "driver.get(\"https://ftp.sei.ba.gov.br/covid19/\")"
   ]
  },
  {
   "cell_type": "code",
   "execution_count": 49,
   "id": "1b68caa6",
   "metadata": {},
   "outputs": [
    {
     "name": "stdout",
     "output_type": "stream",
     "text": [
      "ftp.sei.ba.gov.br - /covid19/\n"
     ]
    }
   ],
   "source": [
    "print(driver.title)"
   ]
  },
  {
   "cell_type": "code",
   "execution_count": 50,
   "id": "8b363c3a",
   "metadata": {},
   "outputs": [],
   "source": [
    "driver.find_element_by_xpath('/html/body/pre/a[3]').click()"
   ]
  }
 ],
 "metadata": {
  "kernelspec": {
   "display_name": "Python 3 (ipykernel)",
   "language": "python",
   "name": "python3"
  },
  "language_info": {
   "codemirror_mode": {
    "name": "ipython",
    "version": 3
   },
   "file_extension": ".py",
   "mimetype": "text/x-python",
   "name": "python",
   "nbconvert_exporter": "python",
   "pygments_lexer": "ipython3",
   "version": "3.9.5"
  }
 },
 "nbformat": 4,
 "nbformat_minor": 5
}

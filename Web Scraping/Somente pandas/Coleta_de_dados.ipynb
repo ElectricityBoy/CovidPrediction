{
 "cells": [
  {
   "cell_type": "code",
   "execution_count": 3,
   "metadata": {},
   "outputs": [],
   "source": [
    "import pandas as pd\n",
    "import io\n",
    "import requests\n",
    "\n",
    "url = 'https://covid.ourworldindata.org/data/owid-covid-data.csv'\n"
   ]
  },
  {
   "cell_type": "code",
   "execution_count": 4,
   "metadata": {},
   "outputs": [],
   "source": [
    "s=requests.get(url).content\n",
    "c=pd.read_csv(io.StringIO(s.decode('utf-8')))"
   ]
  },
  {
   "cell_type": "code",
   "execution_count": 5,
   "metadata": {},
   "outputs": [
    {
     "name": "stdout",
     "output_type": "stream",
     "text": [
      "       iso_code continent     location        date  total_cases  new_cases  \\\n",
      "0           AFG      Asia  Afghanistan  2020-02-24          1.0        1.0   \n",
      "1           AFG      Asia  Afghanistan  2020-02-25          1.0        0.0   \n",
      "2           AFG      Asia  Afghanistan  2020-02-26          1.0        0.0   \n",
      "3           AFG      Asia  Afghanistan  2020-02-27          1.0        0.0   \n",
      "4           AFG      Asia  Afghanistan  2020-02-28          1.0        0.0   \n",
      "...         ...       ...          ...         ...          ...        ...   \n",
      "111593      ZWE    Africa     Zimbabwe  2021-08-19     121902.0      404.0   \n",
      "111594      ZWE    Africa     Zimbabwe  2021-08-20     121902.0        0.0   \n",
      "111595      ZWE    Africa     Zimbabwe  2021-08-21     122487.0      585.0   \n",
      "111596      ZWE    Africa     Zimbabwe  2021-08-22     122652.0      165.0   \n",
      "111597      ZWE    Africa     Zimbabwe  2021-08-23     123001.0      349.0   \n",
      "\n",
      "        new_cases_smoothed  total_deaths  new_deaths  new_deaths_smoothed  \\\n",
      "0                      NaN           NaN         NaN                  NaN   \n",
      "1                      NaN           NaN         NaN                  NaN   \n",
      "2                      NaN           NaN         NaN                  NaN   \n",
      "3                      NaN           NaN         NaN                  NaN   \n",
      "4                      NaN           NaN         NaN                  NaN   \n",
      "...                    ...           ...         ...                  ...   \n",
      "111593             449.714        4198.0        17.0               21.571   \n",
      "111594             342.000        4198.0         0.0               17.857   \n",
      "111595             376.286        4236.0        38.0               20.857   \n",
      "111596             366.286        4249.0        13.0               20.000   \n",
      "111597             416.143        4293.0        44.0               26.286   \n",
      "\n",
      "        ...  extreme_poverty  cardiovasc_death_rate  diabetes_prevalence  \\\n",
      "0       ...              NaN                597.029                 9.59   \n",
      "1       ...              NaN                597.029                 9.59   \n",
      "2       ...              NaN                597.029                 9.59   \n",
      "3       ...              NaN                597.029                 9.59   \n",
      "4       ...              NaN                597.029                 9.59   \n",
      "...     ...              ...                    ...                  ...   \n",
      "111593  ...             21.4                307.846                 1.82   \n",
      "111594  ...             21.4                307.846                 1.82   \n",
      "111595  ...             21.4                307.846                 1.82   \n",
      "111596  ...             21.4                307.846                 1.82   \n",
      "111597  ...             21.4                307.846                 1.82   \n",
      "\n",
      "        female_smokers  male_smokers  handwashing_facilities  \\\n",
      "0                  NaN           NaN                  37.746   \n",
      "1                  NaN           NaN                  37.746   \n",
      "2                  NaN           NaN                  37.746   \n",
      "3                  NaN           NaN                  37.746   \n",
      "4                  NaN           NaN                  37.746   \n",
      "...                ...           ...                     ...   \n",
      "111593             1.6          30.7                  36.791   \n",
      "111594             1.6          30.7                  36.791   \n",
      "111595             1.6          30.7                  36.791   \n",
      "111596             1.6          30.7                  36.791   \n",
      "111597             1.6          30.7                  36.791   \n",
      "\n",
      "        hospital_beds_per_thousand  life_expectancy  human_development_index  \\\n",
      "0                              0.5            64.83                    0.511   \n",
      "1                              0.5            64.83                    0.511   \n",
      "2                              0.5            64.83                    0.511   \n",
      "3                              0.5            64.83                    0.511   \n",
      "4                              0.5            64.83                    0.511   \n",
      "...                            ...              ...                      ...   \n",
      "111593                         1.7            61.49                    0.571   \n",
      "111594                         1.7            61.49                    0.571   \n",
      "111595                         1.7            61.49                    0.571   \n",
      "111596                         1.7            61.49                    0.571   \n",
      "111597                         1.7            61.49                    0.571   \n",
      "\n",
      "        excess_mortality  \n",
      "0                    NaN  \n",
      "1                    NaN  \n",
      "2                    NaN  \n",
      "3                    NaN  \n",
      "4                    NaN  \n",
      "...                  ...  \n",
      "111593               NaN  \n",
      "111594               NaN  \n",
      "111595               NaN  \n",
      "111596               NaN  \n",
      "111597               NaN  \n",
      "\n",
      "[111598 rows x 62 columns]\n"
     ]
    }
   ],
   "source": [
    "print (c)"
   ]
  }
 ],
 "metadata": {
  "interpreter": {
   "hash": "e7370f93d1d0cde622a1f8e1c04877d8463912d04d973331ad4851f04de6915a"
  },
  "kernelspec": {
   "display_name": "Python 3.9.6 64-bit",
   "name": "python3"
  },
  "language_info": {
   "name": "python",
   "version": ""
  },
  "orig_nbformat": 4
 },
 "nbformat": 4,
 "nbformat_minor": 2
}